{
  "cells": [
    {
      "cell_type": "markdown",
      "metadata": {
        "id": "8xwHuMFYvW5J"
      },
      "source": [
        "<center>\n",
        "    <img src=\"https://cf-courses-data.s3.us.cloud-object-storage.appdomain.cloud/IBMDeveloperSkillsNetwork-DS0105EN-SkillsNetwork/labs/Module2/images/SN_web_lightmode.png\" width=\"300\" alt=\"cognitiveclass.ai logo\">\n",
        "</center>\n"
      ]
    },
    {
      "cell_type": "markdown",
      "metadata": {
        "id": "9jFL24j4vW5K"
      },
      "source": [
        "#### Add your code below following the instructions given in the course\n"
      ]
    },
    {
      "cell_type": "markdown",
      "source": [
        "#Data Science Tools and Ecosystem"
      ],
      "metadata": {
        "id": "Cv1NWiWAwg2z"
      }
    },
    {
      "cell_type": "markdown",
      "source": [
        "In this notebook, Data Science Tools and Ecosystem are summarized."
      ],
      "metadata": {
        "id": "tkmqT4Rgw5Ch"
      }
    },
    {
      "cell_type": "markdown",
      "source": [
        "Some of the popular languages that Data Scientists use are:\n",
        "1. Python\n",
        "2. R\n",
        "3. SQL"
      ],
      "metadata": {
        "id": "e6q5_VdWw98Z"
      }
    },
    {
      "cell_type": "markdown",
      "source": [
        "Some of the commonly used libraries used by Data Scientists include:\n",
        "1. pandas\n",
        "2. matplotlib\n",
        "3. numby\n",
        "\n"
      ],
      "metadata": {
        "id": "W5huMRJgxipD"
      }
    },
    {
      "cell_type": "markdown",
      "source": [
        "|Data Science tools|\n",
        "| --- |\n",
        "|Python|\n",
        "|R|\n",
        "|SQL|"
      ],
      "metadata": {
        "id": "znPmkaj5xg0G"
      }
    },
    {
      "cell_type": "markdown",
      "source": [
        "###Below are a few examples of evaluating arithmetic expressions in Python\n"
      ],
      "metadata": {
        "id": "ec1ABLzryxJM"
      }
    },
    {
      "cell_type": "markdown",
      "source": [
        "- Add : 5+5\n",
        "- Minus : 5-5\n",
        "- Multiply : 5*5"
      ],
      "metadata": {
        "id": "xH9jhDRozwcf"
      }
    },
    {
      "cell_type": "code",
      "source": [
        "x = (3*4)+5 #This a simple arithmetic expression to mutiply then add integers\n",
        "x"
      ],
      "metadata": {
        "colab": {
          "base_uri": "https://localhost:8080/"
        },
        "id": "q2iViEEm0Dyb",
        "outputId": "24961a64-7a81-4d24-a925-366e54f5e42f"
      },
      "execution_count": 3,
      "outputs": [
        {
          "output_type": "execute_result",
          "data": {
            "text/plain": [
              "17"
            ]
          },
          "metadata": {},
          "execution_count": 3
        }
      ]
    },
    {
      "cell_type": "code",
      "source": [
        "y = 200/60\n",
        "y"
      ],
      "metadata": {
        "colab": {
          "base_uri": "https://localhost:8080/"
        },
        "id": "YYyAWsiI0Tx_",
        "outputId": "b020b172-cb9f-4bb7-f437-eef86aa932a2"
      },
      "execution_count": 4,
      "outputs": [
        {
          "output_type": "execute_result",
          "data": {
            "text/plain": [
              "3.3333333333333335"
            ]
          },
          "metadata": {},
          "execution_count": 4
        }
      ]
    },
    {
      "cell_type": "markdown",
      "source": [
        "List popular languages for Data Science\n",
        "- Python\n",
        "- SQL\n",
        "- R\n",
        "- Java\n",
        "- Julia\n",
        "- Scala"
      ],
      "metadata": {
        "id": "b3KWW7hr0gku"
      }
    },
    {
      "cell_type": "markdown",
      "source": [
        "##Author\n",
        "Peerawat Orankitvanit"
      ],
      "metadata": {
        "id": "4ONXvHku0xmx"
      }
    }
  ],
  "metadata": {
    "kernelspec": {
      "display_name": "Python",
      "language": "python",
      "name": "conda-env-python-py"
    },
    "language_info": {
      "name": ""
    },
    "colab": {
      "provenance": []
    }
  },
  "nbformat": 4,
  "nbformat_minor": 0
}